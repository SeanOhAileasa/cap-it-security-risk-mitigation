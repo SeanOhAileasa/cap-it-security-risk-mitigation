{
 "cells": [
  {
   "cell_type": "markdown",
   "id": "d4ee9e4b",
   "metadata": {},
   "source": [
    "***\n",
    "< [Home](https://github.com/SeanOhAileasa) | [README](https://github.com/SeanOhAileasa/cap-it-security-risk-mitigation/blob/main/README.md) >\n",
    "\n",
    "## CompTIA Cybersecurity Analyst (CySA+) - Course Material 2022\n",
    "###### Topic: ``IT Security Risk Mitigation``\n",
    "***"
   ]
  },
  {
   "cell_type": "markdown",
   "id": "b82b07fb",
   "metadata": {},
   "source": [
    "Course material for the ``CompTIA Cybersecurity Analyst (CySA+)`` module of the ``ICT Associate Apprenticeship (Cybersecurity)`` programme."
   ]
  },
  {
   "cell_type": "markdown",
   "id": "e7228f57",
   "metadata": {},
   "source": [
    "<a id=\"top\"></a>\n",
    "***\n",
    "## Table of Contents\n",
    "***"
   ]
  },
  {
   "cell_type": "markdown",
   "id": "c2bb5e7b",
   "metadata": {},
   "source": [
    "### [IT Security Risk Mitigation](#ITSecurityRiskMitigation) <br/><br/>\n",
    "<hr width=50%;>"
   ]
  },
  {
   "cell_type": "markdown",
   "id": "3f50be7e",
   "metadata": {},
   "source": [
    "### [Remediation Challenges](#RemediationChallenges) <br/><br/>\n",
    "<hr width=50%;>"
   ]
  },
  {
   "cell_type": "markdown",
   "id": "a53dbe50",
   "metadata": {},
   "source": [
    "### [Firmware and Software Patching](#FirmwareandSoftwarePatching) <br/><br/>\n",
    "<hr width=50%;>"
   ]
  },
  {
   "cell_type": "markdown",
   "id": "6065d6ac",
   "metadata": {},
   "source": [
    "### [Security Controls](#SecurityControls) <br/><br/>\n",
    "<hr width=50%;>"
   ]
  },
  {
   "cell_type": "markdown",
   "id": "ae835095",
   "metadata": {},
   "source": [
    "### [Organizational Security Policies](#OrganizationalSecurityPolicies) <br/><br/>\n",
    "<hr width=50%;>"
   ]
  },
  {
   "cell_type": "markdown",
   "id": "30304457",
   "metadata": {},
   "source": [
    "### [Cloud Data Masking](#CloudDataMasking) <br/><br/>\n",
    "<hr width=50%;>"
   ]
  },
  {
   "cell_type": "markdown",
   "id": "34c5937c",
   "metadata": {},
   "source": [
    "### [Cloud Digital Rights Management](#CloudDigitalRightsManagement) <br/><br/>\n",
    "<hr width=50%;>"
   ]
  },
  {
   "cell_type": "markdown",
   "id": "120e804c",
   "metadata": {},
   "source": [
    "### [Baselines](#Baselines) <br/><br/>\n",
    "<hr width=50%;>"
   ]
  },
  {
   "cell_type": "markdown",
   "id": "59c84c5d",
   "metadata": {},
   "source": [
    "### [Security Training](#SecurityTraining) <br/><br/>\n",
    "<hr width=50%;>"
   ]
  },
  {
   "cell_type": "markdown",
   "id": "927f034b",
   "metadata": {},
   "source": [
    "### [Security Automation](#SecurityAutomation) <br/><br/>\n",
    "<hr width=50%;>"
   ]
  },
  {
   "cell_type": "markdown",
   "id": "086696f7",
   "metadata": {},
   "source": [
    "### [Secure Disposal](#SecureDisposal) <br/><br/>\n",
    "<hr width=50%;>"
   ]
  },
  {
   "cell_type": "markdown",
   "id": "ae36e830",
   "metadata": {},
   "source": [
    "### [Enable Password Lockout Settings](#EnablePasswordLockoutSettings) <br/><br/>\n",
    "<hr width=50%;>"
   ]
  },
  {
   "cell_type": "markdown",
   "id": "520e5ee8",
   "metadata": {},
   "source": [
    "### [IPsec](#IPsec) <br/><br/>\n",
    "<hr width=50%;>"
   ]
  },
  {
   "cell_type": "markdown",
   "id": "26854f05",
   "metadata": {},
   "source": [
    "### [Enable IPsec](#EnableIPsec) <br/><br/>\n",
    "<hr width=50%;>"
   ]
  },
  {
   "cell_type": "markdown",
   "id": "bdf4d9ab",
   "metadata": {},
   "source": [
    "### [IPsec Traffic Analysis](#IPsecTrafficAnalysis) <br/><br/>\n",
    "<hr width=50%;>"
   ]
  },
  {
   "cell_type": "markdown",
   "id": "573ff8df",
   "metadata": {},
   "source": [
    "### [Course Summary](#CourseSummary) <br/><br/>\n",
    "<hr width=50%;>"
   ]
  },
  {
   "cell_type": "markdown",
   "id": "bf2b95e2",
   "metadata": {},
   "source": [
    "***\n",
    "## END"
   ]
  },
  {
   "cell_type": "markdown",
   "id": "34aa6eb5",
   "metadata": {},
   "source": [
    "< [Table of Contents](#top) | [References](#references) >\n",
    "<a id=\"ITSecurityRiskMitigation\"></a>\n",
    "***\n",
    "### IT Security Risk Mitigation\n",
    "***"
   ]
  },
  {
   "cell_type": "markdown",
   "id": "4e748d40",
   "metadata": {},
   "source": [
    "Discover how organizational security policies specify details for hardening organizational assets including patching, data masking and digital rights management. This course also covers baselines, secure disposal and IPsec. This course can be used in preparation for the CompTIA Cybersecurity Analyst (CySA+) Certification Exam CS0-002."
   ]
  },
  {
   "cell_type": "markdown",
   "id": "173e78b5",
   "metadata": {},
   "source": [
    "Objectives\n",
    "\n",
    "- discover the key concepts covered in this course <br/><br/>\n",
    "- list challenges related to IT security threat remediation <br/><br/>\n",
    "- identify the importance of hardware and software patches <br/><br/>\n",
    "- discuss the various categories of security controls <br/><br/>\n",
    "- recognize the components of organizational security policies <br/><br/>\n",
    "- enable data masking in Microsoft Azure <br/><br/>\n",
    "- enable watermarks in Amazon Web Services with Elastic Transcoder <br/><br/>\n",
    "- recognize how baselines set a bar for normal expected activity <br/><br/>\n",
    "- discuss various types of IT security training exercises <br/><br/>\n",
    "- recall how automation can simplify and expedite security tasks <br/><br/>\n",
    "- delete a disk partition using a multiple pass disk wiping tool <br/><br/>\n",
    "- enable Microsoft Group Policy password lockout settings <br/><br/>\n",
    "- recognize how IPsec can be used to secure any type of IP traffic <br/><br/>\n",
    "- enable IPsec connection security rules using Microsoft Group Policy <br/><br/>\n",
    "- capture and analyze IPsec network traffic <br/><br/>\n",
    "- summarize the key concepts covered in this course <br/><br/>"
   ]
  },
  {
   "cell_type": "markdown",
   "id": "84b00380",
   "metadata": {},
   "source": [
    "< [Table of Contents](#top) | [References](#references) >\n",
    "<a id=\"RemediationChallenges\"></a>\n",
    "***\n",
    "### Remediation Challenges\n",
    "***"
   ]
  },
  {
   "cell_type": "markdown",
   "id": "d82d85d7",
   "metadata": {},
   "source": []
  },
  {
   "cell_type": "markdown",
   "id": "b4da2efe",
   "metadata": {},
   "source": [
    "< [Table of Contents](#top) | [References](#references) >\n",
    "<a id=\"FirmwareandSoftwarePatching\"></a>\n",
    "***\n",
    "### Firmware and Software Patching\n",
    "***"
   ]
  },
  {
   "cell_type": "markdown",
   "id": "70f6e846",
   "metadata": {},
   "source": []
  },
  {
   "cell_type": "markdown",
   "id": "7b10c3a2",
   "metadata": {},
   "source": [
    "< [Table of Contents](#top) | [References](#references) >\n",
    "<a id=\"SecurityControls\"></a>\n",
    "***\n",
    "### Security Controls\n",
    "***"
   ]
  },
  {
   "cell_type": "markdown",
   "id": "2cc18496",
   "metadata": {},
   "source": []
  },
  {
   "cell_type": "markdown",
   "id": "1ce9ff85",
   "metadata": {},
   "source": [
    "< [Table of Contents](#top) | [References](#references) >\n",
    "<a id=\"OrganizationalSecurityPolicies\"></a>\n",
    "***\n",
    "### Organizational Security Policies\n",
    "***"
   ]
  },
  {
   "cell_type": "markdown",
   "id": "8bb9c616",
   "metadata": {},
   "source": []
  },
  {
   "cell_type": "markdown",
   "id": "d87809fd",
   "metadata": {},
   "source": [
    "< [Table of Contents](#top) | [References](#references) >\n",
    "<a id=\"CloudDataMasking\"></a>\n",
    "***\n",
    "### Cloud Data Masking\n",
    "***"
   ]
  },
  {
   "cell_type": "markdown",
   "id": "f0a909b6",
   "metadata": {},
   "source": []
  },
  {
   "cell_type": "markdown",
   "id": "c781a700",
   "metadata": {},
   "source": [
    "< [Table of Contents](#top) | [References](#references) >\n",
    "<a id=\"CloudDigitalRightsManagement\"></a>\n",
    "***\n",
    "### Cloud Digital Rights Management\n",
    "***"
   ]
  },
  {
   "cell_type": "markdown",
   "id": "cd41c08d",
   "metadata": {},
   "source": []
  },
  {
   "cell_type": "markdown",
   "id": "1256d7bf",
   "metadata": {},
   "source": [
    "< [Table of Contents](#top) | [References](#references) >\n",
    "<a id=\"Baselines\"></a>\n",
    "***\n",
    "### Baselines\n",
    "***"
   ]
  },
  {
   "cell_type": "markdown",
   "id": "3ab13be8",
   "metadata": {},
   "source": []
  },
  {
   "cell_type": "markdown",
   "id": "47707114",
   "metadata": {},
   "source": [
    "< [Table of Contents](#top) | [References](#references) >\n",
    "<a id=\"SecurityTraining\"></a>\n",
    "***\n",
    "### Security Training\n",
    "***"
   ]
  },
  {
   "cell_type": "markdown",
   "id": "5c5eb4ce",
   "metadata": {},
   "source": []
  },
  {
   "cell_type": "markdown",
   "id": "9adeceaf",
   "metadata": {},
   "source": [
    "< [Table of Contents](#top) | [References](#references) >\n",
    "<a id=\"SecurityAutomation\"></a>\n",
    "***\n",
    "### Security Automation\n",
    "***"
   ]
  },
  {
   "cell_type": "markdown",
   "id": "45d2f914",
   "metadata": {},
   "source": []
  },
  {
   "cell_type": "markdown",
   "id": "fd680b58",
   "metadata": {},
   "source": [
    "< [Table of Contents](#top) | [References](#references) >\n",
    "<a id=\"SecureDisposal\"></a>\n",
    "***\n",
    "### Secure Disposal\n",
    "***"
   ]
  },
  {
   "cell_type": "markdown",
   "id": "86a67316",
   "metadata": {},
   "source": []
  },
  {
   "cell_type": "markdown",
   "id": "d438e44b",
   "metadata": {},
   "source": [
    "< [Table of Contents](#top) | [References](#references) >\n",
    "<a id=\"EnablePasswordLockoutSettings\"></a>\n",
    "***\n",
    "### Enable Password Lockout Settings\n",
    "***"
   ]
  },
  {
   "cell_type": "markdown",
   "id": "6779b825",
   "metadata": {},
   "source": []
  },
  {
   "cell_type": "markdown",
   "id": "bd89bb21",
   "metadata": {},
   "source": [
    "< [Table of Contents](#top) | [References](#references) >\n",
    "<a id=\"IPsec\"></a>\n",
    "***\n",
    "### IPsec\n",
    "***"
   ]
  },
  {
   "cell_type": "markdown",
   "id": "c9f42d31",
   "metadata": {},
   "source": []
  },
  {
   "cell_type": "markdown",
   "id": "88de3841",
   "metadata": {},
   "source": [
    "< [Table of Contents](#top) | [References](#references) >\n",
    "<a id=\"EnableIPsec\"></a>\n",
    "***\n",
    "### Enable IPsec\n",
    "***"
   ]
  },
  {
   "cell_type": "markdown",
   "id": "d78a1e66",
   "metadata": {},
   "source": []
  },
  {
   "cell_type": "markdown",
   "id": "cd59431a",
   "metadata": {},
   "source": [
    "< [Table of Contents](#top) | [References](#references) >\n",
    "<a id=\"IPsecTrafficAnalysis\"></a>\n",
    "***\n",
    "### IPsec Traffic Analysis\n",
    "***"
   ]
  },
  {
   "cell_type": "markdown",
   "id": "5e3ec43a",
   "metadata": {},
   "source": []
  },
  {
   "cell_type": "markdown",
   "id": "efe79722",
   "metadata": {},
   "source": [
    "< [Table of Contents](#top) | [References](#references) >\n",
    "<a id=\"CourseSummary\"></a>\n",
    "***\n",
    "### Course Summary\n",
    "***"
   ]
  },
  {
   "cell_type": "markdown",
   "id": "8bbc0df5",
   "metadata": {},
   "source": []
  },
  {
   "cell_type": "markdown",
   "id": "2cc20932",
   "metadata": {},
   "source": [
    "***\n",
    "## END"
   ]
  },
  {
   "cell_type": "markdown",
   "id": "e0e42d51",
   "metadata": {},
   "source": [
    "< [Table of Contents](#top) >\n",
    "<a id=\"references\"></a>\n",
    "***\n",
    "## References\n",
    "***"
   ]
  },
  {
   "cell_type": "markdown",
   "id": "757bf6de",
   "metadata": {},
   "source": [
    "&nbsp;&nbsp;&nbsp;&nbsp;&nbsp;&nbsp;&nbsp;&nbsp;&nbsp;skillsoft, \"IT Security Risk Mitigation,\" [skillsoft.com](https://web.archive.org/web/20220403100053/https://www.skillsoft.com/), n.d.."
   ]
  },
  {
   "cell_type": "markdown",
   "id": "b33c372a",
   "metadata": {},
   "source": [
    "***\n",
    "## END"
   ]
  },
  {
   "cell_type": "markdown",
   "id": "e5961b4d",
   "metadata": {},
   "source": [
    "< [Table of Contents](#top) | [References](#references) >\n",
    "<a id=\"appendix\"></a>\n",
    "***\n",
    "## Appendix\n",
    "***"
   ]
  },
  {
   "cell_type": "markdown",
   "id": "00d82a82",
   "metadata": {},
   "source": [
    "***\n",
    "## END"
   ]
  },
  {
   "cell_type": "code",
   "execution_count": 1,
   "id": "706756a2",
   "metadata": {},
   "outputs": [
    {
     "data": {
      "text/html": [
       "<style>.container { width:100% !important; }</style>"
      ],
      "text/plain": [
       "<IPython.core.display.HTML object>"
      ]
     },
     "metadata": {},
     "output_type": "display_data"
    }
   ],
   "source": [
    "from IPython.core.display import display,HTML\n",
    "display(HTML(\"<style>.container { width:100% !important; }</style>\"))"
   ]
  },
  {
   "cell_type": "markdown",
   "id": "899c1783",
   "metadata": {},
   "source": [
    "# END JUPYTER NOTEBOOK"
   ]
  }
 ],
 "metadata": {
  "kernelspec": {
   "display_name": "Python 3",
   "language": "python",
   "name": "python3"
  },
  "language_info": {
   "codemirror_mode": {
    "name": "ipython",
    "version": 3
   },
   "file_extension": ".py",
   "mimetype": "text/x-python",
   "name": "python",
   "nbconvert_exporter": "python",
   "pygments_lexer": "ipython3",
   "version": "3.8.8"
  }
 },
 "nbformat": 4,
 "nbformat_minor": 5
}
